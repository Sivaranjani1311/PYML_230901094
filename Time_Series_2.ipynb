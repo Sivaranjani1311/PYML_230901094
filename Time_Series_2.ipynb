{
  "cells": [
    {
      "cell_type": "markdown",
      "metadata": {
        "id": "view-in-github",
        "colab_type": "text"
      },
      "source": [
        "<a href=\"https://colab.research.google.com/github/Sivaranjani1311/PYML_230901094/blob/main/Time_Series_2.ipynb\" target=\"_parent\"><img src=\"https://colab.research.google.com/assets/colab-badge.svg\" alt=\"Open In Colab\"/></a>"
      ]
    },
    {
      "cell_type": "code",
      "execution_count": null,
      "metadata": {
        "colab": {
          "base_uri": "https://localhost:8080/"
        },
        "id": "wlNQKJuOKoMK",
        "outputId": "7620af32-425e-4957-f5ed-bca3de4364b2"
      },
      "outputs": [
        {
          "name": "stdout",
          "output_type": "stream",
          "text": [
            "2025-04-09 15:29:08.212051\n"
          ]
        }
      ],
      "source": [
        "import datetime\n",
        "cd=datetime.datetime.now()\n",
        "print(cd)"
      ]
    },
    {
      "cell_type": "code",
      "execution_count": null,
      "metadata": {
        "colab": {
          "base_uri": "https://localhost:8080/"
        },
        "id": "G6hAfIG8K0-I",
        "outputId": "f94d672f-ad9b-46d2-f422-53197e4e9ea3"
      },
      "outputs": [
        {
          "name": "stdout",
          "output_type": "stream",
          "text": [
            "\n",
            "Two-digit year: 25\n"
          ]
        }
      ],
      "source": [
        "res=cd.strftime(\"%y\")\n",
        "print(\"\\nTwo-digit year:\", res)"
      ]
    },
    {
      "cell_type": "code",
      "execution_count": null,
      "metadata": {
        "colab": {
          "base_uri": "https://localhost:8080/"
        },
        "id": "rp_Sr41KLKzz",
        "outputId": "175496de-06cd-4152-9f16-403ff0ab19fd"
      },
      "outputs": [
        {
          "name": "stdout",
          "output_type": "stream",
          "text": [
            "\n",
            "Four-digit year: 2025\n"
          ]
        }
      ],
      "source": [
        "res1=cd.strftime(\"%Y\")\n",
        "print(\"\\nFour-digit year:\", res1)"
      ]
    },
    {
      "cell_type": "code",
      "execution_count": null,
      "metadata": {
        "colab": {
          "base_uri": "https://localhost:8080/"
        },
        "id": "HlhEs33BLY78",
        "outputId": "201e3c60-c444-4abd-cbe7-d1f460e1195e"
      },
      "outputs": [
        {
          "name": "stdout",
          "output_type": "stream",
          "text": [
            "\n",
            "Two-digit month [01, 12]: 04\n"
          ]
        }
      ],
      "source": [
        "res=cd.strftime(\"%m\")\n",
        "print(\"\\nTwo-digit month [01, 12]:\",res)"
      ]
    },
    {
      "cell_type": "code",
      "execution_count": null,
      "metadata": {
        "colab": {
          "base_uri": "https://localhost:8080/"
        },
        "id": "jQ-Fa1n0LuFZ",
        "outputId": "ddf5512d-50b1-4af1-d7fc-276e52ebbcf8"
      },
      "outputs": [
        {
          "name": "stdout",
          "output_type": "stream",
          "text": [
            "\n",
            "Short version of month Apr\n"
          ]
        }
      ],
      "source": [
        "res=cd.strftime(\"%b\")\n",
        "print(\"\\nShort version of month\", res)"
      ]
    },
    {
      "cell_type": "code",
      "execution_count": null,
      "metadata": {
        "colab": {
          "base_uri": "https://localhost:8080/"
        },
        "id": "hPuJJzLsL6vk",
        "outputId": "31813b93-a120-4410-8f24-58fbdae6e717"
      },
      "outputs": [
        {
          "name": "stdout",
          "output_type": "stream",
          "text": [
            "\n",
            "Full name of month: April\n"
          ]
        }
      ],
      "source": [
        "res=cd.strftime(\"%B\")\n",
        "print(\"\\nFull name of month:\",res)"
      ]
    },
    {
      "cell_type": "code",
      "execution_count": null,
      "metadata": {
        "colab": {
          "base_uri": "https://localhost:8080/"
        },
        "id": "FIxuYpvaMHDE",
        "outputId": "6035bb08-5c55-4f12-8740-36055f6b4996"
      },
      "outputs": [
        {
          "name": "stdout",
          "output_type": "stream",
          "text": [
            "\n",
            "Days of the year: 099\n"
          ]
        }
      ],
      "source": [
        "res=cd.strftime(\"%j\")\n",
        "print(\"\\nDays of the year:\", res)"
      ]
    },
    {
      "cell_type": "code",
      "execution_count": null,
      "metadata": {
        "colab": {
          "base_uri": "https://localhost:8080/"
        },
        "id": "06r8Cdi_MUTD",
        "outputId": "10feed2b-6d9a-4731-e071-9b2ea0711d22"
      },
      "outputs": [
        {
          "name": "stdout",
          "output_type": "stream",
          "text": [
            "\n",
            "Shortcut for %m/%d/%y (e.g., 04/18/12): 04/09/25\n"
          ]
        }
      ],
      "source": [
        "res=cd.strftime(\"%D\")\n",
        "print(\"\\nShortcut for %m/%d/%y (e.g., 04/18/12):\", res)"
      ]
    },
    {
      "cell_type": "code",
      "execution_count": null,
      "metadata": {
        "colab": {
          "base_uri": "https://localhost:8080/"
        },
        "id": "zuNKXIQ_MhGy",
        "outputId": "111a417d-4548-4d49-c3af-5983a7c44a4d"
      },
      "outputs": [
        {
          "name": "stdout",
          "output_type": "stream",
          "text": [
            "\n",
            "Two-digit day [01, 31]: 09\n"
          ]
        }
      ],
      "source": [
        "res=cd.strftime(\"%d\")\n",
        "print(\"\\nTwo-digit day [01, 31]:\", res)"
      ]
    },
    {
      "cell_type": "code",
      "execution_count": null,
      "metadata": {
        "colab": {
          "base_uri": "https://localhost:8080/"
        },
        "id": "LK53EglDMwbC",
        "outputId": "440644da-004b-49e8-fcdb-9d6e4aebe3c4"
      },
      "outputs": [
        {
          "name": "stdout",
          "output_type": "stream",
          "text": [
            "\n",
            "Short version of day Wed\n"
          ]
        }
      ],
      "source": [
        "res=cd.strftime(\"%a\")\n",
        "print(\"\\nShort version of day\", res)"
      ]
    },
    {
      "cell_type": "code",
      "execution_count": null,
      "metadata": {
        "colab": {
          "base_uri": "https://localhost:8080/"
        },
        "id": "uHxuKYUPM7iq",
        "outputId": "81d74841-94c4-44a3-bec6-b622b2b23ae8"
      },
      "outputs": [
        {
          "name": "stdout",
          "output_type": "stream",
          "text": [
            "\n",
            "Full name of a day: A\n"
          ]
        }
      ],
      "source": [
        "res=cd.strftime(\"A\")\n",
        "print(\"\\nFull name of a day:\", res)"
      ]
    },
    {
      "cell_type": "code",
      "execution_count": null,
      "metadata": {
        "colab": {
          "base_uri": "https://localhost:8080/"
        },
        "id": "UA_hnDmeNIKq",
        "outputId": "accd234e-68b2-4d67-e190-75ca670389f1"
      },
      "outputs": [
        {
          "name": "stdout",
          "output_type": "stream",
          "text": [
            "\n",
            "Hour (24-hour clock) [00, 23]: 15\n"
          ]
        }
      ],
      "source": [
        "res=cd.strftime(\"%H\")\n",
        "print(\"\\nHour (24-hour clock) [00, 23]:\",res)"
      ]
    },
    {
      "cell_type": "code",
      "execution_count": null,
      "metadata": {
        "colab": {
          "base_uri": "https://localhost:8080/"
        },
        "id": "S353HYESNUpt",
        "outputId": "51f74c12-2d8a-4961-81e0-222e56df6098"
      },
      "outputs": [
        {
          "name": "stdout",
          "output_type": "stream",
          "text": [
            "\n",
            "Hour (12-hour clock) [01, 12] 03\n"
          ]
        }
      ],
      "source": [
        "res=cd.strftime(\"%I\")\n",
        "print(\"\\nHour (12-hour clock) [01, 12]\",res)"
      ]
    },
    {
      "cell_type": "code",
      "execution_count": null,
      "metadata": {
        "colab": {
          "base_uri": "https://localhost:8080/"
        },
        "id": "_8XlOUgbNfU0",
        "outputId": "31c29c2f-d317-4796-c90d-a491bd971f80"
      },
      "outputs": [
        {
          "name": "stdout",
          "output_type": "stream",
          "text": [
            "\n",
            "Two-digit minute [00, 59]: 29\n"
          ]
        }
      ],
      "source": [
        "res=cd.strftime(\"%M\")\n",
        "print(\"\\nTwo-digit minute [00, 59]:\", res)"
      ]
    },
    {
      "cell_type": "code",
      "execution_count": null,
      "metadata": {
        "colab": {
          "base_uri": "https://localhost:8080/"
        },
        "id": "mOYF_pQJNtjF",
        "outputId": "76b9dc18-15ce-4001-9379-b1b549ab46a2"
      },
      "outputs": [
        {
          "name": "stdout",
          "output_type": "stream",
          "text": [
            "\n",
            "Second (00, 61] (seconds 60, 61 account for leap seconds): 08\n"
          ]
        }
      ],
      "source": [
        "res=cd.strftime(\"%S\")\n",
        "print(\"\\nSecond (00, 61] (seconds 60, 61 account for leap seconds):\",res)"
      ]
    },
    {
      "cell_type": "code",
      "execution_count": null,
      "metadata": {
        "colab": {
          "base_uri": "https://localhost:8080/"
        },
        "id": "I00hR3BbPDop",
        "outputId": "1cbea535-3f63-4553-a0b2-297526114237"
      },
      "outputs": [
        {
          "name": "stdout",
          "output_type": "stream",
          "text": [
            "\n",
            "Shortcut for %Y-%m-%d (eg, 2012-4-18): 2025-04-09\n"
          ]
        }
      ],
      "source": [
        "res=cd.strftime(\"%F\")\n",
        "print(\"\\nShortcut for %Y-%m-%d (eg, 2012-4-18):\",res)"
      ]
    },
    {
      "cell_type": "code",
      "execution_count": null,
      "metadata": {
        "colab": {
          "base_uri": "https://localhost:8080/"
        },
        "id": "yBKFns4OPZZY",
        "outputId": "ff90922f-5e66-40fa-e00c-6989ab0b3198"
      },
      "outputs": [
        {
          "name": "stdout",
          "output_type": "stream",
          "text": [
            "\n",
            "Microsecond as an integer, zero-padded (from 000000 to 999999) 212051\n"
          ]
        }
      ],
      "source": [
        "res=cd.strftime(\"%f\")\n",
        "print(\"\\nMicrosecond as an integer, zero-padded (from 000000 to 999999)\", res)"
      ]
    },
    {
      "cell_type": "code",
      "execution_count": 26,
      "metadata": {
        "id": "HlQS42vzPsAS",
        "colab": {
          "base_uri": "https://localhost:8080/"
        },
        "outputId": "8a983b14-f315-49fd-f378-75086698bd9e"
      },
      "outputs": [
        {
          "output_type": "stream",
          "name": "stdout",
          "text": [
            "\n",
            "Locale equivalent of AM or PM: PM\n"
          ]
        }
      ],
      "source": [
        "res=cd.strftime(\"%p\")\n",
        "print(\"\\nLocale equivalent of AM or PM:\", res)"
      ]
    },
    {
      "cell_type": "code",
      "execution_count": 32,
      "metadata": {
        "colab": {
          "base_uri": "https://localhost:8080/"
        },
        "id": "oJ2HoA38P47w",
        "outputId": "7e707e58-a09f-4870-9b21-c76b3efb6e8c"
      },
      "outputs": [
        {
          "output_type": "stream",
          "name": "stdout",
          "text": [
            "\n",
            "Locale-appropriate formatted date (eg, in the United States, May 1, 2012 yields '05/01/2012) 04/09/25\n"
          ]
        }
      ],
      "source": [
        "res=cd.strftime(\"%x\")\n",
        "print(\"\\nLocale-appropriate formatted date (eg, in the United States, May 1, 2012 yields '05/01/2012)\", res)"
      ]
    },
    {
      "cell_type": "code",
      "source": [
        "res=cd.strftime(\"%X\")\n",
        "print(\"\\nLocale-appropriate time (e.g., '04:24:12 PM'):\",res)"
      ],
      "metadata": {
        "colab": {
          "base_uri": "https://localhost:8080/"
        },
        "id": "KJpqxpOgT1kO",
        "outputId": "9810581d-a339-431d-8d2f-3ad900632992"
      },
      "execution_count": 34,
      "outputs": [
        {
          "output_type": "stream",
          "name": "stdout",
          "text": [
            "\n",
            "Locale-appropriate time (e.g., '04:24:12 PM'): 15:29:08\n"
          ]
        }
      ]
    }
  ],
  "metadata": {
    "colab": {
      "provenance": [],
      "authorship_tag": "ABX9TyMg7jAhku19gghgSKxOnHjg",
      "include_colab_link": true
    },
    "kernelspec": {
      "display_name": "Python 3",
      "name": "python3"
    },
    "language_info": {
      "name": "python"
    }
  },
  "nbformat": 4,
  "nbformat_minor": 0
}