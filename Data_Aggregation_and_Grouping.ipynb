{
  "nbformat": 4,
  "nbformat_minor": 0,
  "metadata": {
    "colab": {
      "provenance": [],
      "authorship_tag": "ABX9TyNvFyFsrxDVWP8n7hWZHYt2",
      "include_colab_link": true
    },
    "kernelspec": {
      "name": "python3",
      "display_name": "Python 3"
    },
    "language_info": {
      "name": "python"
    }
  },
  "cells": [
    {
      "cell_type": "markdown",
      "metadata": {
        "id": "view-in-github",
        "colab_type": "text"
      },
      "source": [
        "<a href=\"https://colab.research.google.com/github/Sivaranjani1311/PYML_230901094/blob/main/Data_Aggregation_and_Grouping.ipynb\" target=\"_parent\"><img src=\"https://colab.research.google.com/assets/colab-badge.svg\" alt=\"Open In Colab\"/></a>"
      ]
    },
    {
      "cell_type": "code",
      "execution_count": 16,
      "metadata": {
        "colab": {
          "base_uri": "https://localhost:8080/"
        },
        "id": "qNtKkQrPArFR",
        "outputId": "3e84e5cc-118d-440e-d93c-0ed7ddc21159"
      },
      "outputs": [
        {
          "output_type": "stream",
          "name": "stdout",
          "text": [
            "\n",
            " Original DataFrame: \n",
            "       Name Catagory  value  score\n",
            "0    Alice        A      1     92\n",
            "1      Bob        B      4     61\n",
            "2  Charlie        C      4     87\n",
            "3    Alice        A      3     81\n",
            "4      Bob        B      1     87\n",
            "5  Charlie        C      4     80\n",
            "\n",
            " Grouped by name and aggredation with one column sum:\n",
            "       Name  value\n",
            "0    Alice      4\n",
            "1      Bob      5\n",
            "2  Charlie      8\n"
          ]
        }
      ],
      "source": [
        "import numpy as np\n",
        "import pandas as pd\n",
        "df=pd.DataFrame({\"Name\":[\"Alice\",\"Bob\",\"Charlie\",\"Alice\",\"Bob\",\"Charlie\"],\"Catagory\":[\"A\",\"B\",\"C\",\"A\",\"B\",\"C\"],\"value\":np.random.randint(1,5,size=6),\"score\":np.random.randint(60,100,size=6)})\n",
        "print(\"\\n Original DataFrame: \\n\",df)\n",
        "df1=df.groupby([\"Name\"],as_index=False)[\"value\"].sum()\n",
        "print(\"\\n Grouped by name and aggredation with one column sum:\\n\",df1)\n",
        ""
      ]
    },
    {
      "cell_type": "code",
      "source": [
        "df2=df.groupby(('Name'),as_index=False)[['value','score']].sum()\n",
        "print(\"\\nGroup by name and Aggregation with two column:\\n\",df2)"
      ],
      "metadata": {
        "colab": {
          "base_uri": "https://localhost:8080/"
        },
        "id": "EkZZt-h9Bu81",
        "outputId": "762a61da-83f6-4fe6-8c39-faa1ae813aea"
      },
      "execution_count": 17,
      "outputs": [
        {
          "output_type": "stream",
          "name": "stdout",
          "text": [
            "\n",
            "Group by name and Aggregation with two column:\n",
            "       Name  value  score\n",
            "0    Alice      4    173\n",
            "1      Bob      5    148\n",
            "2  Charlie      8    167\n"
          ]
        }
      ]
    },
    {
      "cell_type": "code",
      "source": [
        "df3=df.groupby(('Name'),as_index=False)['value'].agg('sum')\n",
        "print(\"\\nGroup by name and Aggregation with one column using agg function:\\n\",df3)"
      ],
      "metadata": {
        "colab": {
          "base_uri": "https://localhost:8080/"
        },
        "id": "XZAJ949OB1xR",
        "outputId": "dcfcf2be-c9e3-4f20-ed45-1005143d74a4"
      },
      "execution_count": 18,
      "outputs": [
        {
          "output_type": "stream",
          "name": "stdout",
          "text": [
            "\n",
            "Group by name and Aggregation with one column using agg function:\n",
            "       Name  value\n",
            "0    Alice      4\n",
            "1      Bob      5\n",
            "2  Charlie      8\n"
          ]
        }
      ]
    },
    {
      "cell_type": "code",
      "source": [
        "df4 = df.groupby('Name').agg({\n",
        "'value': ['sum', 'mean', 'min', 'max'],\n",
        "'score': ['sum', 'mean']})\n",
        "print(\"\\nGroup by name and multiple Aggregation functions :\\n\", df4)"
      ],
      "metadata": {
        "colab": {
          "base_uri": "https://localhost:8080/"
        },
        "id": "7d36jhooB7VB",
        "outputId": "ec9b935a-b8d9-4bf4-fd0f-f1d5990af3fe"
      },
      "execution_count": 19,
      "outputs": [
        {
          "output_type": "stream",
          "name": "stdout",
          "text": [
            "\n",
            "Group by name and multiple Aggregation functions :\n",
            "         value              score      \n",
            "          sum mean min max   sum  mean\n",
            "Name                                  \n",
            "Alice       4  2.0   1   3   173  86.5\n",
            "Bob         5  2.5   1   4   148  74.0\n",
            "Charlie     8  4.0   4   4   167  83.5\n"
          ]
        }
      ]
    },
    {
      "cell_type": "code",
      "source": [
        "df5=df.groupby((\"Name\"),as_index=False)[\"value\"].count()\n",
        "print(\"\\n Group and count:\\n\",df5)"
      ],
      "metadata": {
        "colab": {
          "base_uri": "https://localhost:8080/"
        },
        "id": "MIcJo-rMCAXT",
        "outputId": "054b65d8-d1ac-4090-e0c5-17cd388d6b8a"
      },
      "execution_count": 20,
      "outputs": [
        {
          "output_type": "stream",
          "name": "stdout",
          "text": [
            "\n",
            " Group and count:\n",
            "       Name  value\n",
            "0    Alice      2\n",
            "1      Bob      2\n",
            "2  Charlie      2\n"
          ]
        }
      ]
    },
    {
      "cell_type": "code",
      "source": [
        "df6=df.groupby((\"Name\")).count()\n",
        "print(\"\\n Group and count:\\n\",df6)"
      ],
      "metadata": {
        "colab": {
          "base_uri": "https://localhost:8080/"
        },
        "id": "gBi2Lf3XCO90",
        "outputId": "30a7e1fb-c1a4-4dcb-a0bc-2f40f2c9534e"
      },
      "execution_count": 21,
      "outputs": [
        {
          "output_type": "stream",
          "name": "stdout",
          "text": [
            "\n",
            " Group and count:\n",
            "          Catagory  value  score\n",
            "Name                           \n",
            "Alice           2      2      2\n",
            "Bob             2      2      2\n",
            "Charlie         2      2      2\n"
          ]
        }
      ]
    },
    {
      "cell_type": "code",
      "source": [
        "df7=df.groupby(('Name'),as_index=False)['value'].first()\n",
        "print(\"\\n Group and display from first:\\n\",df7)"
      ],
      "metadata": {
        "colab": {
          "base_uri": "https://localhost:8080/"
        },
        "id": "gYPJOIEECRho",
        "outputId": "3a39dc98-08c9-45e7-9502-121a7269874a"
      },
      "execution_count": 22,
      "outputs": [
        {
          "output_type": "stream",
          "name": "stdout",
          "text": [
            "\n",
            " Group and display from first:\n",
            "       Name  value\n",
            "0    Alice      1\n",
            "1      Bob      4\n",
            "2  Charlie      4\n"
          ]
        }
      ]
    },
    {
      "cell_type": "code",
      "source": [
        "df8=df.groupby(('Name')).first()\n",
        "print(\"\\n Group and display from first:\\n\",df8)"
      ],
      "metadata": {
        "colab": {
          "base_uri": "https://localhost:8080/"
        },
        "id": "yzx7jWDIcJ3L",
        "outputId": "5d163be4-10a8-498a-d267-e08bc40f520f"
      },
      "execution_count": 23,
      "outputs": [
        {
          "output_type": "stream",
          "name": "stdout",
          "text": [
            "\n",
            " Group and display from first:\n",
            "         Catagory  value  score\n",
            "Name                          \n",
            "Alice          A      1     92\n",
            "Bob            B      4     61\n",
            "Charlie        C      4     87\n"
          ]
        }
      ]
    },
    {
      "cell_type": "code",
      "source": [
        "df9=df.groupby((\"Name\")).first()\n",
        "print(\"\\n Group and display from first\\n\",df9)"
      ],
      "metadata": {
        "colab": {
          "base_uri": "https://localhost:8080/"
        },
        "id": "28T1wCJfcMtF",
        "outputId": "b14a59d5-014d-4e6a-87ec-b3442242fae9"
      },
      "execution_count": 24,
      "outputs": [
        {
          "output_type": "stream",
          "name": "stdout",
          "text": [
            "\n",
            " Group and display from first\n",
            "         Catagory  value  score\n",
            "Name                          \n",
            "Alice          A      1     92\n",
            "Bob            B      4     61\n",
            "Charlie        C      4     87\n"
          ]
        }
      ]
    },
    {
      "cell_type": "code",
      "source": [
        "df9=df.groupby(('Name')).last()\n",
        "print(\"\\n Group and display from last:\\n\",df9)"
      ],
      "metadata": {
        "colab": {
          "base_uri": "https://localhost:8080/"
        },
        "id": "Qkj23wxvce1f",
        "outputId": "24eeee01-873c-4cc8-ec2a-3c1af876ddaf"
      },
      "execution_count": 25,
      "outputs": [
        {
          "output_type": "stream",
          "name": "stdout",
          "text": [
            "\n",
            " Group and display from last:\n",
            "         Catagory  value  score\n",
            "Name                          \n",
            "Alice          A      3     81\n",
            "Bob            B      1     87\n",
            "Charlie        C      4     80\n"
          ]
        }
      ]
    },
    {
      "cell_type": "code",
      "source": [
        "df10=df.groupby(('Name'),as_index=False)['value'].last()\n",
        "print(\"\\n Group and display from last:\\n\",df10)"
      ],
      "metadata": {
        "colab": {
          "base_uri": "https://localhost:8080/"
        },
        "id": "MrtktBw3cgvW",
        "outputId": "149a7f4e-b693-4c6e-fd74-04d11a96e80b"
      },
      "execution_count": 26,
      "outputs": [
        {
          "output_type": "stream",
          "name": "stdout",
          "text": [
            "\n",
            " Group and display from last:\n",
            "       Name  value\n",
            "0    Alice      3\n",
            "1      Bob      1\n",
            "2  Charlie      4\n"
          ]
        }
      ]
    },
    {
      "cell_type": "code",
      "source": [
        "df11=df.groupby(('Name')).size()\n",
        "print(\"\\n Group and display from size:\\n\",df11)"
      ],
      "metadata": {
        "colab": {
          "base_uri": "https://localhost:8080/"
        },
        "id": "Pto8V3EJcl-h",
        "outputId": "8614225c-6fb8-47c6-afd3-0c678d0ff787"
      },
      "execution_count": 27,
      "outputs": [
        {
          "output_type": "stream",
          "name": "stdout",
          "text": [
            "\n",
            " Group and display from size:\n",
            " Name\n",
            "Alice      2\n",
            "Bob        2\n",
            "Charlie    2\n",
            "dtype: int64\n"
          ]
        }
      ]
    },
    {
      "cell_type": "code",
      "source": [
        "df12=df.groupby(('Name'),as_index=False)['value'].size()\n",
        "print(\"\\n Group and display from size:\\n\",df12)"
      ],
      "metadata": {
        "colab": {
          "base_uri": "https://localhost:8080/"
        },
        "id": "Rvy-mHK4crVm",
        "outputId": "466cd85f-8e90-46ad-f5f4-bf6d91a84ec2"
      },
      "execution_count": 28,
      "outputs": [
        {
          "output_type": "stream",
          "name": "stdout",
          "text": [
            "\n",
            " Group and display from size:\n",
            "       Name  size\n",
            "0    Alice     2\n",
            "1      Bob     2\n",
            "2  Charlie     2\n"
          ]
        }
      ]
    }
  ]
}