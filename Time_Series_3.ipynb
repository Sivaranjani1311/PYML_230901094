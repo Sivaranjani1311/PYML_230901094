{
  "nbformat": 4,
  "nbformat_minor": 0,
  "metadata": {
    "colab": {
      "provenance": [],
      "authorship_tag": "ABX9TyMtFs7v8DcAYJaWBilAW3Yi",
      "include_colab_link": true
    },
    "kernelspec": {
      "name": "python3",
      "display_name": "Python 3"
    },
    "language_info": {
      "name": "python"
    }
  },
  "cells": [
    {
      "cell_type": "markdown",
      "metadata": {
        "id": "view-in-github",
        "colab_type": "text"
      },
      "source": [
        "<a href=\"https://colab.research.google.com/github/Sivaranjani1311/PYML_230901094/blob/main/Time_Series_3.ipynb\" target=\"_parent\"><img src=\"https://colab.research.google.com/assets/colab-badge.svg\" alt=\"Open In Colab\"/></a>"
      ]
    },
    {
      "cell_type": "code",
      "execution_count": 2,
      "metadata": {
        "colab": {
          "base_uri": "https://localhost:8080/"
        },
        "id": "U367eMkRUSdC",
        "outputId": "53b51c90-ddbe-4e9f-d519-084c780e033c"
      },
      "outputs": [
        {
          "output_type": "stream",
          "name": "stdout",
          "text": [
            "Date Index \n",
            " 2011-01-02    0.296577\n",
            "2011-01-05    0.102297\n",
            "2011-01-07    0.478500\n",
            "2011-01-08   -1.023038\n",
            "2011-01-10   -0.211859\n",
            "2011-01-12   -0.489930\n",
            "dtype: float64\n"
          ]
        }
      ],
      "source": [
        "import pandas as pd\n",
        "import numpy as np\n",
        "from datetime import datetime\n",
        "\n",
        "dates = [datetime(2011, 1, 2),\n",
        "datetime(2011, 1, 5),\n",
        "datetime(2011, 1, 7),\n",
        "datetime(2011, 1, 8),\n",
        "datetime(2011, 1, 10),\n",
        "datetime(2011, 1, 12)]\n",
        "\n",
        "import pandas as pd\n",
        "import numpy as np\n",
        "from datetime import datetime\n",
        "\n",
        "dates = [datetime(2011, 1, 2),\n",
        "datetime(2011, 1, 5),\n",
        "datetime(2011, 1, 7),\n",
        "datetime(2011, 1, 8),\n",
        "datetime(2011, 1, 10),\n",
        "datetime(2011, 1, 12)]\n",
        "\n",
        "ts = pd.Series(np.random.randn(6), index=dates)\n",
        "print(\"Date Index \\n\",ts)"
      ]
    },
    {
      "cell_type": "code",
      "source": [
        "print(\"\\nDate Index alone from the series: \\n\",ts.index)"
      ],
      "metadata": {
        "colab": {
          "base_uri": "https://localhost:8080/"
        },
        "id": "cyNpei_6U1UV",
        "outputId": "17c09ad9-ac3d-4c4d-c070-dc2e83c9a77f"
      },
      "execution_count": 4,
      "outputs": [
        {
          "output_type": "stream",
          "name": "stdout",
          "text": [
            "\n",
            "Date Index alone from the series: \n",
            " DatetimeIndex(['2011-01-02', '2011-01-05', '2011-01-07', '2011-01-08',\n",
            "               '2011-01-10', '2011-01-12'],\n",
            "              dtype='datetime64[ns]', freq=None)\n"
          ]
        }
      ]
    },
    {
      "cell_type": "code",
      "source": [
        "stamp=ts.index[2]\n",
        "print(\"\\nSecond index:\\n\", stamp)"
      ],
      "metadata": {
        "colab": {
          "base_uri": "https://localhost:8080/"
        },
        "id": "T-MoBEXhU7TA",
        "outputId": "21c79168-58f6-49c1-aadd-7ca2be7d3349"
      },
      "execution_count": 6,
      "outputs": [
        {
          "output_type": "stream",
          "name": "stdout",
          "text": [
            "\n",
            "Second index:\n",
            " 2011-01-07 00:00:00\n"
          ]
        }
      ]
    },
    {
      "cell_type": "code",
      "source": [
        "longer_ts=pd.Series(np.random.randn(1000),\n",
        "index=pd.date_range(\"2000-01-01\",periods=1000))\n",
        "print(\"\\nDaterange up to 1000 days:\\n\",longer_ts)"
      ],
      "metadata": {
        "colab": {
          "base_uri": "https://localhost:8080/"
        },
        "id": "MeA6evMEVB9f",
        "outputId": "81671c05-7a6e-421b-c12a-ab191838909f"
      },
      "execution_count": 8,
      "outputs": [
        {
          "output_type": "stream",
          "name": "stdout",
          "text": [
            "\n",
            "Daterange up to 1000 days:\n",
            " 2000-01-01    1.318870\n",
            "2000-01-02   -0.989208\n",
            "2000-01-03   -0.118870\n",
            "2000-01-04   -1.945567\n",
            "2000-01-05   -1.453870\n",
            "                ...   \n",
            "2002-09-22   -1.411816\n",
            "2002-09-23    0.593289\n",
            "2002-09-24    1.005427\n",
            "2002-09-25    1.259787\n",
            "2002-09-26   -0.244107\n",
            "Freq: D, Length: 1000, dtype: float64\n"
          ]
        }
      ]
    },
    {
      "cell_type": "code",
      "source": [
        "print(\"\\nDate range-2001 year:\\n\", longer_ts[\"2001\"])"
      ],
      "metadata": {
        "colab": {
          "base_uri": "https://localhost:8080/"
        },
        "id": "XadRamN9VQ8B",
        "outputId": "7f0acdaf-61b7-49bd-e4b8-8099b0f859e0"
      },
      "execution_count": 10,
      "outputs": [
        {
          "output_type": "stream",
          "name": "stdout",
          "text": [
            "\n",
            "Date range-2001 year:\n",
            " 2001-01-01    0.310245\n",
            "2001-01-02   -1.823659\n",
            "2001-01-03    0.412148\n",
            "2001-01-04    0.467106\n",
            "2001-01-05   -0.632707\n",
            "                ...   \n",
            "2001-12-27    0.993593\n",
            "2001-12-28    0.709933\n",
            "2001-12-29   -1.160389\n",
            "2001-12-30    0.636539\n",
            "2001-12-31   -2.594602\n",
            "Freq: D, Length: 365, dtype: float64\n"
          ]
        }
      ]
    },
    {
      "cell_type": "code",
      "source": [
        "print(\"\\nDate range-05 month 2001 year:\\n\", longer_ts[\"2001-05\"])"
      ],
      "metadata": {
        "colab": {
          "base_uri": "https://localhost:8080/"
        },
        "id": "qZo6TwbBVXB-",
        "outputId": "2ebef01e-5a9b-4f2e-e4b1-94925bdc7dca"
      },
      "execution_count": 12,
      "outputs": [
        {
          "output_type": "stream",
          "name": "stdout",
          "text": [
            "\n",
            "Date range-05 month 2001 year:\n",
            " 2001-05-01    1.655452\n",
            "2001-05-02   -0.687011\n",
            "2001-05-03    0.253797\n",
            "2001-05-04   -1.146221\n",
            "2001-05-05   -1.052232\n",
            "2001-05-06   -0.394393\n",
            "2001-05-07   -0.620358\n",
            "2001-05-08    1.891355\n",
            "2001-05-09    1.637356\n",
            "2001-05-10   -0.581515\n",
            "2001-05-11   -0.035850\n",
            "2001-05-12   -0.683666\n",
            "2001-05-13   -0.145943\n",
            "2001-05-14   -1.014390\n",
            "2001-05-15    0.545193\n",
            "2001-05-16    0.138252\n",
            "2001-05-17    0.321216\n",
            "2001-05-18   -0.785047\n",
            "2001-05-19   -0.556264\n",
            "2001-05-20   -0.697077\n",
            "2001-05-21   -0.574797\n",
            "2001-05-22    0.156566\n",
            "2001-05-23    1.290262\n",
            "2001-05-24   -0.110551\n",
            "2001-05-25    0.842316\n",
            "2001-05-26    1.591462\n",
            "2001-05-27   -0.106616\n",
            "2001-05-28   -2.161189\n",
            "2001-05-29    0.498203\n",
            "2001-05-30   -0.371427\n",
            "2001-05-31    0.181499\n",
            "Freq: D, dtype: float64\n"
          ]
        }
      ]
    },
    {
      "cell_type": "code",
      "source": [
        "print(\"\\nDate range-first few dates in 2000 year:\\n\",longer_ts[\"2000\"].head())"
      ],
      "metadata": {
        "colab": {
          "base_uri": "https://localhost:8080/"
        },
        "id": "TpyEP_l4Vemf",
        "outputId": "10cbfd79-73a9-403d-f65b-ca9ca7b5b492"
      },
      "execution_count": 17,
      "outputs": [
        {
          "output_type": "stream",
          "name": "stdout",
          "text": [
            "\n",
            "Date range-first few dates in 2000 year:\n",
            " 2000-01-01    1.318870\n",
            "2000-01-02   -0.989208\n",
            "2000-01-03   -0.118870\n",
            "2000-01-04   -1.945567\n",
            "2000-01-05   -1.453870\n",
            "Freq: D, dtype: float64\n"
          ]
        }
      ]
    },
    {
      "cell_type": "code",
      "source": [
        "print(\"\\nDate range-first 15 dates in 02 month 2001 year:\\n\",longer_ts[\"2000-02\"].head(15))"
      ],
      "metadata": {
        "colab": {
          "base_uri": "https://localhost:8080/"
        },
        "id": "qXzHENk2Vj7i",
        "outputId": "eb0f7019-6e0a-4094-f236-522e554231c1"
      },
      "execution_count": 18,
      "outputs": [
        {
          "output_type": "stream",
          "name": "stdout",
          "text": [
            "\n",
            "Date range-first 15 dates in 02 month 2001 year:\n",
            " 2000-02-01   -1.689661\n",
            "2000-02-02   -1.376048\n",
            "2000-02-03   -0.721749\n",
            "2000-02-04    1.231204\n",
            "2000-02-05    1.271756\n",
            "2000-02-06    1.508962\n",
            "2000-02-07    1.355233\n",
            "2000-02-08   -0.307061\n",
            "2000-02-09    0.175896\n",
            "2000-02-10   -0.552666\n",
            "2000-02-11    1.007155\n",
            "2000-02-12    1.276665\n",
            "2000-02-13    0.207381\n",
            "2000-02-14    1.921836\n",
            "2000-02-15   -0.509077\n",
            "Freq: D, dtype: float64\n"
          ]
        }
      ]
    },
    {
      "cell_type": "code",
      "source": [
        "print(\"\\nDate range-rom 26-9-2001:\\n\",longer_ts[datetime(2000,9,26):])"
      ],
      "metadata": {
        "colab": {
          "base_uri": "https://localhost:8080/"
        },
        "id": "quXI-fm3VpHt",
        "outputId": "14ef5b60-ac90-4ae7-e808-6e5b5b8469eb"
      },
      "execution_count": 19,
      "outputs": [
        {
          "output_type": "stream",
          "name": "stdout",
          "text": [
            "\n",
            "Date range-rom 26-9-2001:\n",
            " 2000-09-26   -1.573756\n",
            "2000-09-27   -0.312078\n",
            "2000-09-28   -0.336230\n",
            "2000-09-29   -1.437291\n",
            "2000-09-30   -0.563181\n",
            "                ...   \n",
            "2002-09-22   -1.411816\n",
            "2002-09-23    0.593289\n",
            "2002-09-24    1.005427\n",
            "2002-09-25    1.259787\n",
            "2002-09-26   -0.244107\n",
            "Freq: D, Length: 731, dtype: float64\n"
          ]
        }
      ]
    }
  ]
}